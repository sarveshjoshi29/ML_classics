{
 "cells": [
  {
   "cell_type": "code",
   "execution_count": 2,
   "id": "ce9ce4d5",
   "metadata": {},
   "outputs": [],
   "source": [
    "import pandas as pd\n",
    "import numpy as np\n",
    "import matplotlib.pyplot as plt"
   ]
  },
  {
   "cell_type": "code",
   "execution_count": null,
   "id": "ccdadc79",
   "metadata": {},
   "outputs": [],
   "source": [
    "class KNN():\n",
    "    allowed_metrics = [\"euclidean\",\"manhattan\"]\n",
    "    def __init__(self,k=3,metric=\"euclidean\"):\n",
    "        self.k = k\n",
    "        self.metric = metric.lower()\n",
    "    \n",
    "    def dist(self,row_test,row_train):\n",
    "        if self.metric == \"euclidean\":\n",
    "            return np.linalg.norm(row_test-row_train)\n",
    "        elif self.metric == \"manhattan\":\n",
    "            return np.sum(abs(row_test - row_train))\n",
    "        else :\n",
    "            raise ValueError(f\"metric can only take the values {self.allowed_metrics}\")\n",
    "    def predict(self,X_train,y_train,X_test):\n",
    "        for col in X_train.columns:\n",
    "            if (X_train[col].dtype != float) & (X_train[col].dtype!= int):\n",
    "                raise ValueError(f\"data type of column {col} is {X_train[col].dtype} it should be int or float\")\n",
    "\n",
    "        if len(X_train.columns)!= len(X_test.columns):\n",
    "            raise ValueError(f\"inconsistent number of columns in X_train {len(X_train.columns)} and X_test {len(X_test.columns)}\")\n",
    "        if(len(X_train)!=len(y_train)):\n",
    "            raise ValueError(f\"inconsistent number of samples in X_train {len(X_train)} and y_train {len(y_train)}\")\n",
    "        \n",
    "        list = []\n",
    "        category = []\n",
    "        for i in range(self.k):\n",
    "            list.append(0.0)\n",
    "        for i in range(self.k):\n",
    "            category.append(-1)\n",
    "        for i in range(len(X_test)):\n",
    "            row_test = X_test.iloc[i].values\n",
    "            for j in range(len(X_train)):\n",
    "                row_train = X_train.iloc[j]\n",
    "                curr_dist = self.dist(row_test,row_train)\n",
    "                for index,elem in enumerate(list):\n",
    "                    if curr_dist < elem:\n",
    "                        list.insert(index,curr_dist)\n",
    "                        list.pop()\n",
    "                        category.insert(index,y_train.iloc[j])\n",
    "                        category.pop()\n",
    "                        break\n",
    "        from collections import Counter\n",
    "        freq = Counter(category)\n",
    "        ans = max(freq,key = freq.get)\n",
    "        \n",
    "        \n",
    "\n",
    "\n",
    "\n",
    "\n"
   ]
  }
 ],
 "metadata": {
  "kernelspec": {
   "display_name": "myenv",
   "language": "python",
   "name": "python3"
  },
  "language_info": {
   "codemirror_mode": {
    "name": "ipython",
    "version": 3
   },
   "file_extension": ".py",
   "mimetype": "text/x-python",
   "name": "python",
   "nbconvert_exporter": "python",
   "pygments_lexer": "ipython3",
   "version": "3.11.11"
  }
 },
 "nbformat": 4,
 "nbformat_minor": 5
}
