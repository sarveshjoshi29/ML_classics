{
 "cells": [
  {
   "cell_type": "code",
   "execution_count": 1,
   "id": "ce9ce4d5",
   "metadata": {},
   "outputs": [],
   "source": [
    "import pandas as pd\n",
    "import numpy as np\n",
    "import matplotlib.pyplot as plt"
   ]
  },
  {
   "cell_type": "code",
   "execution_count": 2,
   "id": "ccdadc79",
   "metadata": {},
   "outputs": [],
   "source": [
    "class KNN():\n",
    "    allowed_metrics = [\"euclidean\",\"manhattan\"]\n",
    "    def __init__(self,k=3,metric=\"euclidean\"):\n",
    "        self.k = k\n",
    "        self.metric = metric.lower()\n",
    "    \n",
    "    def dist(self,row_test,row_train):\n",
    "        if self.metric == \"euclidean\":\n",
    "            return np.linalg.norm(row_test-row_train)\n",
    "        elif self.metric == \"manhattan\":\n",
    "            return np.sum(abs(row_test - row_train))\n",
    "        else :\n",
    "            raise ValueError(f\"metric can only take the values {self.allowed_metrics}\")\n",
    "    def predict(self,X_train,y_train,X_test):\n",
    "\n",
    "\n",
    "\n",
    "        if isinstance(X_train,pd.DataFrame):\n",
    "            X_train = X_train.values\n",
    "        if (isinstance(y_train,pd.DataFrame)) or (isinstance(y_train,pd.Series)):\n",
    "            y_train = y_train.values\n",
    "        if isinstance(X_test,pd.DataFrame):\n",
    "            X_test = X_test.values\n",
    "\n",
    "        for col in range(X_train.shape[1]):\n",
    "            if (X_train[:,col].dtype != float) & (X_train[:,col].dtype!= int):\n",
    "                raise ValueError(f\"data type of column {col} is {X_train[col].dtype} it should be int or float\")\n",
    "\n",
    "        if (X_train.shape[1])!= (X_test.shape[1]):\n",
    "            raise ValueError(f\"inconsistent number of columns in X_train {X_train.shape[1]} and X_test {X_test.shape[1]}\")\n",
    "        if((X_train.shape[0])!=(y_train.shape[0])):\n",
    "            raise ValueError(f\"inconsistent number of samples in X_train {X_train.shape[0]} and y_train {y_train.shape[0]}\")\n",
    "        \n",
    "        final_ans = []\n",
    "        for i in range(X_test.shape[0]):\n",
    "            row_test = X_test[i,:]\n",
    "            list = []\n",
    "            for j in range(len(X_train)):\n",
    "                row_train = X_train[j,:]\n",
    "                curr_dist = self.dist(row_test,row_train)\n",
    "                list.append((curr_dist,y_train[j]))\n",
    "\n",
    "            list.sort()\n",
    "            #list = np.array(list)\n",
    "            top_k = list[0:self.k]\n",
    "            categories = {}\n",
    "            for dist, category in top_k:\n",
    "                if categories.get(category)==None:\n",
    "                    categories[category]=1\n",
    "                else:\n",
    "                    categories[category]+=1\n",
    "            ans = max(categories,key=categories.get)\n",
    "            final_ans.append(ans)\n",
    "        return final_ans\n",
    "\n"
   ]
  },
  {
   "cell_type": "code",
   "execution_count": 3,
   "id": "a6008854",
   "metadata": {},
   "outputs": [],
   "source": [
    "from sklearn.datasets import load_breast_cancer\n",
    "load_data = load_breast_cancer()\n",
    "data = pd.DataFrame(load_data.data, columns=load_data.feature_names)\n",
    "data['target'] = load_data.target"
   ]
  },
  {
   "cell_type": "code",
   "execution_count": 4,
   "id": "3fb63d09",
   "metadata": {},
   "outputs": [],
   "source": [
    "X = data.drop(columns = [\"target\"])\n",
    "y = data[\"target\"]"
   ]
  },
  {
   "cell_type": "code",
   "execution_count": 5,
   "id": "b6ec2cad",
   "metadata": {},
   "outputs": [],
   "source": [
    "from sklearn.model_selection import train_test_split\n",
    "\n",
    "X_train,X_test,y_train,y_test = train_test_split(X,y,train_size=0.8)"
   ]
  },
  {
   "cell_type": "code",
   "execution_count": 6,
   "id": "66c46163",
   "metadata": {},
   "outputs": [
    {
     "name": "stdout",
     "output_type": "stream",
     "text": [
      "              precision    recall  f1-score   support\n",
      "\n",
      "           0       0.98      0.94      0.96        49\n",
      "           1       0.96      0.98      0.97        65\n",
      "\n",
      "    accuracy                           0.96       114\n",
      "   macro avg       0.97      0.96      0.96       114\n",
      "weighted avg       0.97      0.96      0.96       114\n",
      "\n"
     ]
    }
   ],
   "source": [
    "my_knn = KNN(k=5,metric=\"manhattan\")\n",
    "y_pred = my_knn.predict(X_test=X_test,X_train=X_train,y_train=y_train)\n",
    "from sklearn.metrics import classification_report\n",
    "print(classification_report(y_pred=y_pred,y_true=y_test))"
   ]
  }
 ],
 "metadata": {
  "kernelspec": {
   "display_name": "myenv",
   "language": "python",
   "name": "python3"
  },
  "language_info": {
   "codemirror_mode": {
    "name": "ipython",
    "version": 3
   },
   "file_extension": ".py",
   "mimetype": "text/x-python",
   "name": "python",
   "nbconvert_exporter": "python",
   "pygments_lexer": "ipython3",
   "version": "3.11.11"
  }
 },
 "nbformat": 4,
 "nbformat_minor": 5
}
